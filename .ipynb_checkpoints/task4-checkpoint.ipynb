{
 "cells": [
  {
   "cell_type": "code",
   "execution_count": 29,
   "id": "fe731753-803b-48b5-bccd-eeb179e73b3b",
   "metadata": {},
   "outputs": [
    {
     "name": "stdout",
     "output_type": "stream",
     "text": [
      "[1] \"✅ Model Accuracy: 74.03 %\"\n"
     ]
    }
   ],
   "source": [
    "# Correct file path (use double backslashes or forward slashes)\n",
    "diabetes_data <- read.csv(\"C:/Users/Student/Desktop/hamza oel 1/diabetes.csv\")\n",
    "\n",
    "# Split data into training (80%) and testing (20%)\n",
    "set.seed(123)\n",
    "split <- sample.split(diabetes_data$Outcome, SplitRatio = 0.8)\n",
    "\n",
    "train_data <- subset(diabetes_data, split == TRUE)\n",
    "test_data <- subset(diabetes_data, split == FALSE)\n",
    "\n",
    "# Train a Logistic Regression model\n",
    "model <- glm(Outcome ~ ., data = train_data, family = binomial)\n",
    "\n",
    "# Predict on test data\n",
    "predictions <- predict(model, test_data, type = \"response\")\n",
    "\n",
    "# Convert probabilities to binary outcome (0 or 1)\n",
    "predicted_labels <- ifelse(predictions > 0.5, 1, 0)\n",
    "\n",
    "# Calculate accuracy\n",
    "accuracy <- mean(predicted_labels == test_data$Outcome)\n",
    "\n",
    "# Print accuracy score\n",
    "print(paste(\"✅ Model Accuracy:\", round(accuracy * 100, 2), \"%\"))\n"
   ]
  },
  {
   "cell_type": "code",
   "execution_count": null,
   "id": "2d154284-3bf1-4032-8bc3-a34ef8b53f15",
   "metadata": {},
   "outputs": [],
   "source": []
  }
 ],
 "metadata": {
  "kernelspec": {
   "display_name": "R",
   "language": "R",
   "name": "ir"
  },
  "language_info": {
   "codemirror_mode": "r",
   "file_extension": ".r",
   "mimetype": "text/x-r-source",
   "name": "R",
   "pygments_lexer": "r",
   "version": "4.4.3"
  }
 },
 "nbformat": 4,
 "nbformat_minor": 5
}
