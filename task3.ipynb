{
 "cells": [
  {
   "cell_type": "code",
   "execution_count": 20,
   "id": "5db31a8a-15bf-43ac-8647-2912b17486eb",
   "metadata": {},
   "outputs": [
    {
     "name": "stdout",
     "output_type": "stream",
     "text": [
      "[1] \"Cleaned dataset saved as processed_online_retail.csv\"\n"
     ]
    }
   ],
   "source": [
    "# Load dataset (make sure the file exists in the correct location)\n",
    "retail_data <- read.csv(\"C:\\\\Users\\\\Student\\\\Desktop\\\\hamza oel 1\\\\online_retail.csv\")\n",
    "\n",
    "# Remove rows with missing CustomerID\n",
    "retail_data <- na.omit(retail_data)\n",
    "\n",
    "# Replace missing values in UnitPrice and Quantity with their median\n",
    "retail_data$UnitPrice[is.na(retail_data$UnitPrice)] <- median(retail_data$UnitPrice, na.rm = TRUE)\n",
    "retail_data$Quantity[is.na(retail_data$Quantity)] <- median(retail_data$Quantity, na.rm = TRUE)\n",
    "\n",
    "# Save the cleaned dataset\n",
    "write.csv(retail_data, \"processed_online_retail.csv\", row.names = FALSE)\n",
    "\n",
    "print(\"Cleaned dataset saved as processed_online_retail.csv\")\n"
   ]
  },
  {
   "cell_type": "code",
   "execution_count": null,
   "id": "fe731753-803b-48b5-bccd-eeb179e73b3b",
   "metadata": {},
   "outputs": [],
   "source": []
  }
 ],
 "metadata": {
  "kernelspec": {
   "display_name": "R",
   "language": "R",
   "name": "ir"
  },
  "language_info": {
   "codemirror_mode": "r",
   "file_extension": ".r",
   "mimetype": "text/x-r-source",
   "name": "R",
   "pygments_lexer": "r",
   "version": "4.4.3"
  }
 },
 "nbformat": 4,
 "nbformat_minor": 5
}
